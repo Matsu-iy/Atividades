{
  "cells": [
    {
      "cell_type": "markdown",
      "metadata": {},
      "source": [
        "## Modelo Final – Random Forest (Pipeline Única)\n",
        "\n",
        "Este notebook treina e avalia um modelo de classificação (Random Forest) com uma única pipeline, incluindo:\n",
        "- Pré-processamento (imputação, padronização, one-hot)\n",
        "- Busca de hiperparâmetros (RandomizedSearchCV)\n",
        "- Validação cruzada OOF com métricas (Accuracy, F1, ROC-AUC, PR-AUC)\n",
        "- Otimização de threshold (via curva PR)\n",
        "- Calibração de probabilidades\n",
        "- Análises (learning curve, permutation importance)\n",
        "- Geração de `submission.csv` (id, labels)\n",
        "\n"
      ]
    },
    {
      "cell_type": "code",
      "execution_count": 3,
      "metadata": {},
      "outputs": [],
      "source": [
        "# [1] Imports e configuração\n",
        "import warnings\n",
        "warnings.filterwarnings('ignore')\n",
        "\n",
        "import numpy as np\n",
        "import pandas as pd\n",
        "from pathlib import Path\n",
        "\n",
        "from sklearn.model_selection import StratifiedKFold, cross_val_predict\n",
        "from sklearn.metrics import (\n",
        "    accuracy_score, f1_score, roc_auc_score,\n",
        "    precision_recall_curve, auc, classification_report\n",
        ")\n",
        "from sklearn.preprocessing import StandardScaler\n",
        "from sklearn.compose import ColumnTransformer\n",
        "from sklearn.pipeline import Pipeline\n",
        "from sklearn.impute import SimpleImputer\n",
        "from sklearn.ensemble import RandomForestClassifier\n",
        "from sklearn.calibration import CalibratedClassifierCV\n",
        "from sklearn.preprocessing import OneHotEncoder\n",
        "\n",
        "# SHAP é opcional\n",
        "try:\n",
        "    import shap\n",
        "    SHAP_AVAILABLE = True\n",
        "except Exception:\n",
        "    SHAP_AVAILABLE = False\n",
        "\n",
        "RANDOM_STATE = 42\n",
        "np.random.seed(RANDOM_STATE)\n",
        "\n"
      ]
    },
    {
      "cell_type": "code",
      "execution_count": 4,
      "metadata": {},
      "outputs": [],
      "source": [
        "# [2] Carregar dados\n",
        "train = pd.read_csv('train.csv')\n",
        "test = pd.read_csv('test.csv')\n",
        "TARGET = 'labels'\n",
        "# Remover id das features (evita ruído e vazamento)\n",
        "X = train.drop(columns=[TARGET, 'id']) if 'id' in train.columns else train.drop(columns=[TARGET])\n",
        "y = train[TARGET]\n",
        "\n",
        "# Detectar colunas\n",
        "num_cols = X.select_dtypes(include=[np.number]).columns.tolist()\n",
        "cat_cols = [c for c in X.columns if c not in num_cols]\n",
        "\n",
        "# Pré-processamento\n",
        "_onehot_kwargs = {\"handle_unknown\": \"ignore\"}\n",
        "try:\n",
        "    OneHotEncoder(sparse_output=False)\n",
        "    _onehot_kwargs[\"sparse_output\"] = False\n",
        "except TypeError:\n",
        "    _onehot_kwargs[\"sparse\"] = False\n",
        "\n",
        "numeric_transformer = Pipeline([\n",
        "    ('imputer', SimpleImputer(strategy='median'))\n",
        "])\n",
        "\n",
        "cat_transformer = Pipeline([\n",
        "    ('imputer', SimpleImputer(strategy='most_frequent')),\n",
        "    ('onehot', OneHotEncoder(**_onehot_kwargs))\n",
        "])\n",
        "\n",
        "preprocessor = ColumnTransformer([\n",
        "    ('num', numeric_transformer, num_cols),\n",
        "    ('cat', cat_transformer, cat_cols)\n",
        "], remainder='drop', sparse_threshold=0)\n",
        "\n"
      ]
    },
    {
      "cell_type": "code",
      "execution_count": 5,
      "metadata": {},
      "outputs": [],
      "source": [
        "# [3] Modelo base: Random Forest conservador\n",
        "rf = RandomForestClassifier(\n",
        "    n_estimators=900,\n",
        "    max_depth=18,\n",
        "    min_samples_split=3,\n",
        "    min_samples_leaf=1,\n",
        "    max_features='sqrt',\n",
        "    class_weight=None,\n",
        "    random_state=RANDOM_STATE,\n",
        "    n_jobs=-1\n",
        ")\n",
        "\n",
        "# Pipeline completo\n",
        "pipeline = Pipeline([\n",
        "    ('prep', preprocessor),\n",
        "    ('rf', rf)\n",
        "])\n",
        "\n"
      ]
    },
    {
      "cell_type": "code",
      "execution_count": 6,
      "metadata": {},
      "outputs": [
        {
          "name": "stdout",
          "output_type": "stream",
          "text": [
            "OOF Accuracy: 0.7957\n",
            "OOF F1: 0.8530\n",
            "OOF ROC-AUC: 0.8072\n",
            "OOF PR-AUC: 0.8405\n",
            "Melhor limiar (F1): 0.494\n"
          ]
        }
      ],
      "source": [
        "# [4] Validação cruzada estratificada com predições out-of-fold\n",
        "skf = StratifiedKFold(n_splits=10, shuffle=True, random_state=RANDOM_STATE)\n",
        "\n",
        "# Probabilidades OOF para ROC/PR e tuning de threshold\n",
        "oof_proba = cross_val_predict(pipeline, X, y, cv=skf, method='predict_proba', n_jobs=-1)[:, 1]\n",
        "\n",
        "# Métricas OOF\n",
        "acc_oof = accuracy_score(y, (oof_proba >= 0.5).astype(int))\n",
        "f1_oof = f1_score(y, (oof_proba >= 0.5).astype(int))\n",
        "roc_oof = roc_auc_score(y, oof_proba)\n",
        "prec, rec, thr = precision_recall_curve(y, oof_proba)\n",
        "prauc_oof = auc(rec, prec)\n",
        "\n",
        "print(f\"OOF Accuracy: {acc_oof:.4f}\\nOOF F1: {f1_oof:.4f}\\nOOF ROC-AUC: {roc_oof:.4f}\\nOOF PR-AUC: {prauc_oof:.4f}\")\n",
        "\n",
        "# Otimização de limiar para F1\n",
        "f1_vals = 2 * (prec * rec) / (prec + rec + 1e-8)\n",
        "best_idx = np.argmax(f1_vals)\n",
        "best_threshold = thr[max(best_idx-1, 0)]  # alinhar tamanhos (thresholds tem len-1)\n",
        "print(f\"Melhor limiar (F1): {best_threshold:.3f}\")\n",
        "\n"
      ]
    },
    {
      "cell_type": "code",
      "execution_count": 30,
      "metadata": {},
      "outputs": [
        {
          "name": "stdout",
          "output_type": "stream",
          "text": [
            "Ajustando RandomizedSearchCV...\n",
            "Fitting 5 folds for each of 40 candidates, totalling 200 fits\n",
            "Melhores params: {'rf__bootstrap': True, 'rf__class_weight': 'balanced', 'rf__max_depth': 25, 'rf__max_features': 'sqrt', 'rf__min_samples_leaf': 1, 'rf__min_samples_split': 5, 'rf__n_estimators': 1748}\n",
            "Melhor Acurácia (CV): 0.7925\n",
            "Melhores params: {'rf__bootstrap': True, 'rf__class_weight': 'balanced', 'rf__max_depth': 25, 'rf__max_features': 'sqrt', 'rf__min_samples_leaf': 1, 'rf__min_samples_split': 5, 'rf__n_estimators': 1748}\n",
            "Melhor Acurácia (CV): 0.7925\n"
          ]
        }
      ],
      "source": [
        "# [5] Busca de hiperparâmetros (mais robusta para acurácia)\n",
        "from sklearn.model_selection import RandomizedSearchCV\n",
        "from scipy.stats import randint, uniform\n",
        "\n",
        "rf_param_dist = {\n",
        "    'rf__n_estimators': randint(1000, 2000),\n",
        "    'rf__max_depth': randint(18, 40),\n",
        "    'rf__min_samples_split': randint(2, 6),\n",
        "    'rf__min_samples_leaf': randint(1, 2),\n",
        "    'rf__max_features': ['sqrt', 'log2', 0.5],\n",
        "    'rf__bootstrap': [True],\n",
        "    'rf__class_weight': ['balanced']\n",
        "}\n",
        "\n",
        "search = RandomizedSearchCV(\n",
        "    estimator=pipeline,\n",
        "    param_distributions=rf_param_dist,\n",
        "    n_iter=40,\n",
        "    cv=StratifiedKFold(n_splits=5, shuffle=True, random_state=RANDOM_STATE),\n",
        "    scoring='accuracy',\n",
        "    n_jobs=-1,\n",
        "    random_state=RANDOM_STATE,\n",
        "    verbose=1,\n",
        ")\n",
        "\n",
        "print('Ajustando RandomizedSearchCV...')\n",
        "search.fit(X, y)\n",
        "\n",
        "best_pipeline = search.best_estimator_\n",
        "print('Melhores params:', search.best_params_)\n",
        "print('Melhor Acurácia (CV):', f\"{search.best_score_:.4f}\")\n"
      ]
    },
    {
      "cell_type": "markdown",
      "metadata": {},
      "source": [
        "### Métricas OOF (validação cruzada)\n",
        "Calcula predições out-of-fold (OOF) com `best_pipeline` e imprime:\n",
        "- Tamanho do dataset, número de folds\n",
        "- Accuracy e F1 em threshold 0.5\n",
        "- ROC-AUC e PR-AUC\n",
        "- Accuracy em threshold ótimo (definido na célula de threshold)\n",
        "\n"
      ]
    },
    {
      "cell_type": "code",
      "execution_count": 25,
      "metadata": {},
      "outputs": [
        {
          "name": "stdout",
          "output_type": "stream",
          "text": [
            "Modelo calibrado ajustado no conjunto completo.\n"
          ]
        }
      ],
      "source": [
        "# [6] Ajuste final do modelo no conjunto completo (com calibração)\n",
        "# Usar best_pipeline (tuned) como base do calibrador\n",
        "calibrated = CalibratedClassifierCV(\n",
        "    estimator=best_pipeline,\n",
        "    method='isotonic',\n",
        "    cv=StratifiedKFold(n_splits=5, shuffle=True, random_state=RANDOM_STATE)\n",
        ")\n",
        "calibrated.fit(X, y)\n",
        "\n",
        "print(\"Modelo calibrado ajustado no conjunto completo.\")\n",
        "\n"
      ]
    },
    {
      "cell_type": "code",
      "execution_count": 24,
      "metadata": {},
      "outputs": [
        {
          "name": "stdout",
          "output_type": "stream",
          "text": [
            "Top 10 importâncias de features (pré-onehot):\n",
            "                     feature  importance\n",
            "4              relationships    0.129826\n",
            "6          funding_total_usd    0.105362\n",
            "3    age_last_milestone_year    0.096505\n",
            "1      age_last_funding_year    0.081518\n",
            "0     age_first_funding_year    0.078537\n",
            "2   age_first_milestone_year    0.072573\n",
            "7                 milestones    0.070127\n",
            "29          avg_participants    0.066659\n",
            "5             funding_rounds    0.036696\n",
            "12             is_otherstate    0.017017\n",
            "SHAP calculado em amostra.\n",
            "SHAP calculado em amostra.\n"
          ]
        }
      ],
      "source": [
        "# Importâncias e SHAP (opcional)\n",
        "# Importâncias (a partir do RandomForest dentro do pipeline)\n",
        "pipeline.fit(X, y)\n",
        "rf_model = pipeline.named_steps['rf']\n",
        "\n",
        "importances = rf_model.feature_importances_\n",
        "feature_names = (\n",
        "    list(preprocessor.transformers_[0][2]) +  # numéricas\n",
        "    list(preprocessor.transformers_[1][2])    # categóricas (antes do one-hot)\n",
        ")\n",
        "print(\"Top 10 importâncias de features (pré-onehot):\")\n",
        "imp_df = pd.DataFrame({'feature': feature_names, 'importance': importances[:len(feature_names)]})\n",
        "print(imp_df.sort_values('importance', ascending=False).head(10))\n",
        "\n",
        "# SHAP para explicabilidade local/global (se disponível)\n",
        "if SHAP_AVAILABLE:\n",
        "    try:\n",
        "        explainer = shap.TreeExplainer(rf_model)\n",
        "        # Amostra pequena para performance\n",
        "        sample_idx = np.random.choice(len(X), size=min(200, len(X)), replace=False)\n",
        "        X_sample = X.iloc[sample_idx]\n",
        "        # Aplicar somente pré-processamento numérico básico para SHAP de árvores\n",
        "        X_sample_prep = preprocessor.fit_transform(X, y)[sample_idx]\n",
        "        shap_values = explainer.shap_values(X_sample_prep)\n",
        "        print(\"SHAP calculado em amostra.\")\n",
        "    except Exception as e:\n",
        "        print(f\"Falha ao calcular SHAP: {e}\")\n",
        "\n"
      ]
    },
    {
      "cell_type": "code",
      "execution_count": 10,
      "metadata": {},
      "outputs": [
        {
          "name": "stdout",
          "output_type": "stream",
          "text": [
            "Resumo do limiar ótimo para classificação:\n",
            "- Limiar ótimo (best_threshold): 0.4941\n",
            "- Total de limiares avaliados (n_thresholds): 646\n",
            "- Melhor F1 obtido (max_F1): 0.8559\n"
          ]
        }
      ],
      "source": [
        "# [7] Limiar ótimo (best_threshold) calculado pela curva Precisão–Revocação (max F1)\n",
        "# Explicação rápida:\n",
        "# - Limiar (threshold): ponto de corte da probabilidade para classificar 0/1.\n",
        "# - n_thresholds: quantos pontos de corte foram testados.\n",
        "# - max_F1: melhor F1 alcançado no conjunto OOF ao variar o limiar.\n",
        "prec, rec, thr = precision_recall_curve(y, oof_proba)\n",
        "f1_vals = 2 * (prec * rec) / (prec + rec + 1e-8)\n",
        "best_idx = np.argmax(f1_vals)\n",
        "best_threshold = thr[max(best_idx-1, 0)]\n",
        "print(\n",
        "    \"Resumo do limiar ótimo para classificação:\\n\"\n",
        "    f\"- Limiar ótimo (best_threshold): {best_threshold:.4f}\\n\"\n",
        "    f\"- Total de limiares avaliados (n_thresholds): {int(len(thr))}\\n\"\n",
        "    f\"- Melhor F1 obtido (max_F1): {float(f1_vals[best_idx]):.4f}\"\n",
        ")\n"
      ]
    },
    {
      "cell_type": "code",
      "execution_count": null,
      "metadata": {},
      "outputs": [
        {
          "name": "stdout",
          "output_type": "stream",
          "text": [
            "Métricas OOF (predições fora-da-amostra) com 10 dobras | total de amostras: 646\n",
            "- Acurácia (limiar 0,5): 0.7864 | F1 (limiar 0,5): 0.8453\n",
            "- ROC-AUC (área sob a curva ROC): 0.8006 | PR-AUC (área sob a curva Precisão-Revocação): 0.8290\n",
            "- Acurácia no limiar ótimo (best_threshold=0.4941): 0.7895\n",
            "\n",
            "Ajuste de limiar focado em Acurácia:\n",
            "- Limiar com maior acurácia (accuracy_threshold): 0.4820\n",
            "- Acurácia OOF nesse limiar: 0.7972\n",
            "\n",
            "Ajuste de limiar focado em Acurácia:\n",
            "- Limiar com maior acurácia (accuracy_threshold): 0.4820\n",
            "- Acurácia OOF nesse limiar: 0.7972\n"
          ]
        },
        {
          "data": {
            "image/png": "[encoded data removed]",
            "text/plain": [
              "<Figure size 1200x500 with 2 Axes>"
            ]
          },
          "metadata": {},
          "output_type": "display_data"
        }
      ],
      "source": [
        "# [8] Avaliação OOF (validação cruzada fora-da-amostra) + curvas ROC/PR\n",
        "from sklearn.metrics import roc_curve, auc, precision_recall_curve\n",
        "import matplotlib.pyplot as plt\n",
        "\n",
        "# Regerar OOF com best_pipeline\n",
        "n_folds = 10\n",
        "skf = StratifiedKFold(n_splits=n_folds, shuffle=True, random_state=RANDOM_STATE)\n",
        "oof_proba = cross_val_predict(best_pipeline, X, y, cv=skf, method='predict_proba', n_jobs=-1)[:, 1]\n",
        "oof_pred = (oof_proba >= 0.5).astype(int)\n",
        "\n",
        "acc_oof = accuracy_score(y, oof_pred)\n",
        "f1_oof = f1_score(y, oof_pred)\n",
        "fpr, tpr, _ = roc_curve(y, oof_proba)\n",
        "roc_oof = auc(fpr, tpr)\n",
        "prec, rec, thr = precision_recall_curve(y, oof_proba)\n",
        "prauc_oof = auc(rec, prec)\n",
        "\n",
        "msg = (\n",
        "    f\"Métricas OOF (predições fora-da-amostra) com {n_folds} dobras | total de amostras: {len(y)}\\n\"\n",
        "    f\"- Acurácia (limiar 0,5): {acc_oof:.4f} | F1 (limiar 0,5): {f1_oof:.4f}\\n\"\n",
        "    f\"- ROC-AUC (área sob a curva ROC): {roc_oof:.4f} | PR-AUC (área sob a curva Precisão-Revocação): {prauc_oof:.4f}\"\n",
        ")\n",
        "print(msg)\n",
        "\n",
        "# Threshold que maximiza a acurácia\n",
        "ths = np.linspace(0.0, 1.0, 501)\n",
        "accs = [accuracy_score(y, (oof_proba >= t).astype(int)) for t in ths]\n",
        "best_acc_idx = int(np.argmax(accs))\n",
        "best_acc_th = float(ths[best_acc_idx])\n",
        "best_acc = float(accs[best_acc_idx])\n",
        "print(\n",
        "    \"\\nAjuste de limiar focado em Acurácia:\\n\"\n",
        "    f\"- Limiar com maior acurácia (accuracy_threshold): {best_acc_th:.4f}\\n\"\n",
        "    f\"- Acurácia OOF nesse limiar: {best_acc:.4f}\"\n",
        ")\n",
        "\n",
        "# Use este threshold para submissão\n",
        "submission_threshold = best_acc_th\n",
        "\n",
        "plt.figure(figsize=(12,5))\n",
        "plt.subplot(1,2,1)\n",
        "plt.plot(fpr, tpr, label=f'ROC-AUC = {roc_oof:.3f}')\n",
        "plt.plot([0,1],[0,1],'--',color='gray')\n",
        "plt.xlabel('Taxa de Falsos Positivos (FPR)'); plt.ylabel('Taxa de Verdadeiros Positivos (TPR)'); plt.title('Curva ROC (OOF)'); plt.legend()\n",
        "\n",
        "plt.subplot(1,2,2)\n",
        "plt.plot(rec, prec, label=f'PR-AUC = {prauc_oof:.3f}', color='tab:orange')\n",
        "plt.xlabel('Revocação (Recall)'); plt.ylabel('Precisão (Precision)'); plt.title('Curva Precisão–Revocação (OOF)'); plt.legend()\n",
        "plt.tight_layout()\n",
        "plt.show()"
      ]
    },
    {
      "cell_type": "code",
      "execution_count": null,
      "metadata": {},
      "outputs": [
        {
          "ename": "NameError",
          "evalue": "name 'submission_threshold' is not defined",
          "output_type": "error",
          "traceback": [
            "\u001b[31m---------------------------------------------------------------------------\u001b[39m",
            "\u001b[31mNameError\u001b[39m                                 Traceback (most recent call last)",
            "\u001b[36mCell\u001b[39m\u001b[36m \u001b[39m\u001b[32mIn[33]\u001b[39m\u001b[32m, line 10\u001b[39m\n\u001b[32m      7\u001b[39m proba_test = np.clip(proba_test, \u001b[32m0.0\u001b[39m, \u001b[32m1.0\u001b[39m)\n\u001b[32m      9\u001b[39m \u001b[38;5;66;03m# Use o threshold que maximiza a acurácia\u001b[39;00m\n\u001b[32m---> \u001b[39m\u001b[32m10\u001b[39m preds_test_label = (proba_test >= \u001b[43msubmission_threshold\u001b[49m).astype(\u001b[38;5;28mint\u001b[39m)\n\u001b[32m     12\u001b[39m submission_df = pd.DataFrame({\n\u001b[32m     13\u001b[39m     id_col: test[id_col].values,\n\u001b[32m     14\u001b[39m     \u001b[33m'\u001b[39m\u001b[33mlabels\u001b[39m\u001b[33m'\u001b[39m: preds_test_label\n\u001b[32m     15\u001b[39m })\n\u001b[32m     17\u001b[39m sub_path = \u001b[33m'\u001b[39m\u001b[33msubmission.csv\u001b[39m\u001b[33m'\u001b[39m\n",
            "\u001b[31mNameError\u001b[39m: name 'submission_threshold' is not defined"
          ]
        }
      ],
      "source": [
        "# [9] Geração do arquivo de submissão usando threshold ótimo de acurácia\n",
        "id_col = 'id'\n",
        "X_test = test.drop(columns=['id'], errors='ignore')\n",
        "proba_test = calibrated.predict_proba(X_test)[:, 1]\n",
        "\n",
        "proba_test = np.nan_to_num(proba_test, nan=0.5)\n",
        "proba_test = np.clip(proba_test, 0.0, 1.0)\n",
        "\n",
        "# Use o threshold que maximiza a acurácia (definido na célula de avaliação OOF)\n",
        "try:\n",
        "    threshold = submission_threshold\n",
        "except NameError:\n",
        "    threshold = best_threshold\n",
        "preds_test_label = (proba_test >= threshold).astype(int)\n",
        "\n",
        "submission_df = pd.DataFrame({\n",
        "    id_col: test[id_col].values,\n",
        "    'labels': preds_test_label\n",
        "})\n",
        "\n",
        "sub_path = 'submission.csv'\n",
        "submission_df.to_csv(sub_path, index=False)\n",
        "\n",
        "print(\n",
        "    f\"Arquivo salvo: {sub_path}\\n\"\n",
        "    f\"Formato: [id, labels (0/1)] | n_linhas: {len(preds_test_label)}\\n\"\n",
        "    f\"Distribuição das classes: {submission_df['labels'].value_counts(normalize=True).to_dict()}\\n\"\n",
        "    f\"Exemplo (5 primeiras linhas):\\n\"\n",
        "    f\"{submission_df.head().to_string(index=False)}\"\n",
        ")"
      ]
    },
    {
      "cell_type": "code",
      "execution_count": 17,
      "metadata": {},
      "outputs": [
        {
          "name": "stdout",
          "output_type": "stream",
          "text": [
            "Top 20 features por permutation importance:\n",
            "num__relationships             0.08876\n",
            "num__funding_total_usd         0.04912\n",
            "num__age_last_milestone_year   0.03522\n",
            "num__milestones                0.03484\n",
            "num__age_first_funding_year    0.03455\n",
            "cat__category_code_advertising 0.03252\n",
            "num__age_last_funding_year     0.02823\n",
            "num__age_first_milestone_year  0.02164\n",
            "num__is_software               0.01972\n",
            "num__funding_rounds            0.01583\n",
            "num__is_otherstate             0.00579\n",
            "num__has_roundC                0.00452\n",
            "num__has_roundB                0.00423\n",
            "num__has_roundD                0.00387\n",
            "num__is_web                    0.00362\n",
            "num__is_CA                     0.00359\n",
            "num__has_VC                    0.00355\n",
            "num__has_angel                 0.00351\n",
            "num__is_consulting             0.00215\n",
            "num__is_mobile                 0.00204\n"
          ]
        }
      ],
      "source": [
        "# Permutation importance (pós-tuning)\n",
        "from sklearn.inspection import permutation_importance\n",
        "\n",
        "# Ajustar best_pipeline no conjunto completo para importância\n",
        "best_pipeline.fit(X, y)\n",
        "\n",
        "result = permutation_importance(best_pipeline, X, y, n_repeats=10, random_state=RANDOM_STATE, scoring='f1', n_jobs=-1)\n",
        "\n",
        "# Extrair nomes das colunas após o ColumnTransformer + OneHot\n",
        "# Para simplicidade, mostramos importâncias agregadas por coluna original quando possível\n",
        "try:\n",
        "    # Se OneHot, número de colunas pode expandir; aqui mostramos top 20 features pela importância média\n",
        "    importances = result.importances_mean\n",
        "    \n",
        "    # Obter nomes das features após o pré-processamento\n",
        "    feature_names_out = best_pipeline.named_steps['prep'].get_feature_names_out()\n",
        "\n",
        "    indices = np.argsort(importances)[::-1][:20]\n",
        "    \n",
        "    print('Top 20 features por permutation importance:')\n",
        "    for i in indices:\n",
        "        print(f\"{feature_names_out[i]:<30} {importances[i]:.5f}\")\n",
        "except Exception as e:\n",
        "    print('Falha ao listar importâncias detalhadas:', e)\n",
        "\n"
      ]
    },
    {
      "cell_type": "code",
      "execution_count": 32,
      "metadata": {},
      "outputs": [
        {
          "name": "stdout",
          "output_type": "stream",
          "text": [
            "Arquivo submission_metrics.csv salvo com colunas id,labels (binários).\n"
          ]
        }
      ],
      "source": [
        "# [10] Salvar arquivo submission_metrics.csv com id e labels binários usando threshold ótimo de acurácia\n",
        "id_col = 'id'\n",
        "X_test = test.drop(columns=['id'], errors='ignore')\n",
        "proba_test = calibrated.predict_proba(X_test)[:, 1]\n",
        "proba_test = np.nan_to_num(proba_test, nan=0.5)\n",
        "proba_test = np.clip(proba_test, 0.0, 1.0)\n",
        "# Use o threshold calculado anteriormente\n",
        "labels_bin = (proba_test >= best_threshold).astype(int)\n",
        "metrics_df = pd.DataFrame({\n",
        "    id_col: test[id_col].values,\n",
        "    'labels': labels_bin\n",
        "})\n",
        "metrics_df.to_csv('submission_metrics.csv', index=False)\n",
        "print('Arquivo submission_metrics.csv salvo com colunas id,labels (binários).')"
      ]
    }
  ],
  "metadata": {
    "kernelspec": {
      "display_name": "Python 3",
      "language": "python",
      "name": "python3"
    },
    "language_info": {
      "codemirror_mode": {
        "name": "ipython",
        "version": 3
      },
      "file_extension": ".py",
      "mimetype": "text/x-python",
      "name": "python",
      "nbconvert_exporter": "python",
      "pygments_lexer": "ipython3",
      "version": "3.13.1"
    }
  },
  "nbformat": 4,
  "nbformat_minor": 2
}
