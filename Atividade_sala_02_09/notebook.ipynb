{
 "cells": [
  {
   "cell_type": "markdown",
   "id": "54ae8e31",
   "metadata": {},
   "source": [
    "## Casas Benites, Expansão e Logística\n",
    "\n",
    "Este notebook exemplifica como sugerir novas lojas e centros de distribuição (CDs) para uma rede varejista nacional.\n",
    "\n",
    "Primeiro, sugerimos uma nova loja (k=1, K-Means ponderado pela população).\n",
    "Depois, indicamos um CD (k=1) para atender todas as lojas, incluindo a nova.\n",
    "\n",
    "Você pode adaptar para k = 2..5 (novas lojas e CDs) conforme instruções nos blocos de tarefa."
   ]
  },
  {
   "cell_type": "code",
   "execution_count": 18,
   "id": "8b44ecc5",
   "metadata": {},
   "outputs": [
    {
     "ename": "ModuleNotFoundError",
     "evalue": "No module named 'sklearn'",
     "output_type": "error",
     "traceback": [
      "\u001b[31m---------------------------------------------------------------------------\u001b[39m",
      "\u001b[31mModuleNotFoundError\u001b[39m                       Traceback (most recent call last)",
      "\u001b[36mCell\u001b[39m\u001b[36m \u001b[39m\u001b[32mIn[18]\u001b[39m\u001b[32m, line 4\u001b[39m\n\u001b[32m      2\u001b[39m \u001b[38;5;28;01mimport\u001b[39;00m\u001b[38;5;250m \u001b[39m\u001b[34;01mpandas\u001b[39;00m\u001b[38;5;250m \u001b[39m\u001b[38;5;28;01mas\u001b[39;00m\u001b[38;5;250m \u001b[39m\u001b[34;01mpd\u001b[39;00m\n\u001b[32m      3\u001b[39m \u001b[38;5;28;01mimport\u001b[39;00m\u001b[38;5;250m \u001b[39m\u001b[34;01mmatplotlib\u001b[39;00m\u001b[34;01m.\u001b[39;00m\u001b[34;01mpyplot\u001b[39;00m\u001b[38;5;250m \u001b[39m\u001b[38;5;28;01mas\u001b[39;00m\u001b[38;5;250m \u001b[39m\u001b[34;01mplt\u001b[39;00m\n\u001b[32m----> \u001b[39m\u001b[32m4\u001b[39m \u001b[38;5;28;01mfrom\u001b[39;00m\u001b[38;5;250m \u001b[39m\u001b[34;01msklearn\u001b[39;00m\u001b[34;01m.\u001b[39;00m\u001b[34;01mcluster\u001b[39;00m\u001b[38;5;250m \u001b[39m\u001b[38;5;28;01mimport\u001b[39;00m KMeans\n\u001b[32m      5\u001b[39m \u001b[38;5;28;01mfrom\u001b[39;00m\u001b[38;5;250m \u001b[39m\u001b[34;01msklearn\u001b[39;00m\u001b[34;01m.\u001b[39;00m\u001b[34;01mmetrics\u001b[39;00m\u001b[38;5;250m \u001b[39m\u001b[38;5;28;01mimport\u001b[39;00m silhouette_score\n\u001b[32m      7\u001b[39m \u001b[38;5;66;03m# Distância Haversine (km) para lat/lon em graus\u001b[39;00m\n",
      "\u001b[31mModuleNotFoundError\u001b[39m: No module named 'sklearn'"
     ]
    }
   ],
   "source": [
    "import numpy as np\n",
    "import pandas as pd\n",
    "import matplotlib.pyplot as plt\n",
    "from sklearn.cluster import KMeans\n",
    "from sklearn.metrics import silhouette_score\n",
    "\n",
    "# Distância Haversine (km) para lat/lon em graus\n",
    "def haversine(lat1, lon1, lat2, lon2):\n",
    "    R = 6371.0\n",
    "    p1 = np.radians(lat1); p2 = np.radians(lat2)\n",
    "    dlat = np.radians(lat2 - lat1)\n",
    "    dlon = np.radians(lon2 - lon1)\n",
    "    a = np.sin(dlat/2)**2 + np.cos(p1)*np.cos(p2)*np.sin(dlon/2)**2\n",
    "    c = 2 * np.arctan2(np.sqrt(a), np.sqrt(1-a))\n",
    "    return R * c\n",
    "\n",
    "def nearest_city(centroid, df, exclude_existing=False):\n",
    "    lat, lon = centroid\n",
    "    dists = haversine(lat, lon, df['lat'].values, df['lon'].values)\n",
    "    order = np.argsort(dists)\n",
    "    if not exclude_existing:\n",
    "        idx = int(order[0]); row = df.iloc[idx]\n",
    "        return row['city'], row['state'], float(dists[order[0]])\n",
    "    for idx in order:\n",
    "        row = df.iloc[int(idx)]\n",
    "        if not row.get('existing_store', False):\n",
    "            return row['city'], row['state'], float(dists[int(idx)])\n",
    "    idx = int(order[0]); row = df.iloc[idx]\n",
    "    return row['city'], row['state'], float(dists[idx])\n",
    "\n",
    "def cluster_distance_stats(X, labels, centroids):\n",
    "    rows, d_all = [], []\n",
    "    for i in range(len(centroids)):\n",
    "        mask = labels == i\n",
    "        pts = X[mask]\n",
    "        dists = haversine(pts[:,0], pts[:,1], centroids[i,0], centroids[i,1])\n",
    "        d_all.extend(list(dists))\n",
    "        rows.append({\n",
    "            \"cluster\": i+1,\n",
    "            \"n_points\": int(mask.sum()),\n",
    "            \"avg_km\": float(np.mean(dists)) if len(dists) else 0.0,\n",
    "            \"p90_km\": float(np.percentile(dists, 90)) if len(dists) else 0.0,\n",
    "            \"max_km\": float(np.max(dists)) if len(dists) else 0.0,\n",
    "        })\n",
    "    global_stats = {\n",
    "        \"global_avg_km\": float(np.mean(d_all)) if len(d_all) else 0.0,\n",
    "        \"global_p90_km\": float(np.percentile(d_all, 90)) if len(d_all) else 0.0,\n",
    "        \"global_max_km\": float(np.max(d_all)) if len(d_all) else 0.0,\n",
    "    }\n",
    "    return pd.DataFrame(rows), global_stats"
   ]
  },
  {
   "cell_type": "markdown",
   "id": "21285cb6",
   "metadata": {},
   "source": [
    "Dados nacionais embutidos (capitais + polos)\n",
    "existing_store=True indica cidades onde já há loja. As demais são candidatas à expansão.\n",
    "População está em ordem de grandeza para fins didáticos."
   ]
  },
  {
   "cell_type": "code",
   "execution_count": null,
   "id": "a615fd58",
   "metadata": {},
   "outputs": [],
   "source": [
    "br_data = [\n",
    "    {'city': 'São Paulo', 'state': 'SP', 'lat': -23.5505, 'lon': -46.6333, 'population': 12000000, 'existing_store': True},\n",
    "    {'city': 'Campinas', 'state': 'SP', 'lat': -22.9056, 'lon': -47.0608, 'population': 1300000, 'existing_store': True},\n",
    "    {'city': 'Ribeirão Preto', 'state': 'SP', 'lat': -21.1775, 'lon': -47.8103, 'population': 720000, 'existing_store': True},\n",
    "    {'city': 'São José dos Campos', 'state': 'SP', 'lat': -23.1896, 'lon': -45.8841, 'population': 750000, 'existing_store': True},\n",
    "    {'city': 'Santos', 'state': 'SP', 'lat': -23.959, 'lon': -46.3336, 'population': 430000, 'existing_store': True},\n",
    "    {'city': 'Rio de Janeiro', 'state': 'RJ', 'lat': -22.9068, 'lon': -43.1729, 'population': 6700000, 'existing_store': True},\n",
    "    {'city': 'Niterói', 'state': 'RJ', 'lat': -22.8859, 'lon': -43.1153, 'population': 500000, 'existing_store': False},\n",
    "    {'city': 'Belo Horizonte', 'state': 'MG', 'lat': -19.9167, 'lon': -43.9345, 'population': 2500000, 'existing_store': True},\n",
    "    {'city': 'Uberlândia', 'state': 'MG', 'lat': -18.9186, 'lon': -48.2772, 'population': 700000, 'existing_store': False},\n",
    "    {'city': 'Juiz de Fora', 'state': 'MG', 'lat': -21.7606, 'lon': -43.3434, 'population': 580000, 'existing_store': False},\n",
    "    {'city': 'Vitória', 'state': 'ES', 'lat': -20.3155, 'lon': -40.3128, 'population': 365000, 'existing_store': True},\n",
    "    {'city': 'Serra', 'state': 'ES', 'lat': -20.1211, 'lon': -40.3074, 'population': 520000, 'existing_store': False},\n",
    "    {'city': 'Curitiba', 'state': 'PR', 'lat': -25.4284, 'lon': -49.2733, 'population': 1900000, 'existing_store': True},\n",
    "    {'city': 'Londrina', 'state': 'PR', 'lat': -23.3045, 'lon': -51.1696, 'population': 580000, 'existing_store': False},\n",
    "    {'city': 'Maringá', 'state': 'PR', 'lat': -23.42, 'lon': -51.9331, 'population': 430000, 'existing_store': False},\n",
    "    {'city': 'Porto Alegre', 'state': 'RS', 'lat': -30.0346, 'lon': -51.2177, 'population': 1500000, 'existing_store': True},\n",
    "    {'city': 'Caxias do Sul', 'state': 'RS', 'lat': -29.1678, 'lon': -51.1794, 'population': 520000, 'existing_store': False},\n",
    "    {'city': 'Florianópolis', 'state': 'SC', 'lat': -27.5949, 'lon': -48.5482, 'population': 550000, 'existing_store': True},\n",
    "    {'city': 'Joinville', 'state': 'SC', 'lat': -26.3044, 'lon': -48.8477, 'population': 610000, 'existing_store': False},\n",
    "    {'city': 'Blumenau', 'state': 'SC', 'lat': -26.9155, 'lon': -49.0709, 'population': 360000, 'existing_store': False},\n",
    "    {'city': 'Brasília', 'state': 'DF', 'lat': -15.7939, 'lon': -47.8828, 'population': 3000000, 'existing_store': True},\n",
    "    {'city': 'Goiânia', 'state': 'GO', 'lat': -16.6869, 'lon': -49.2648, 'population': 1600000, 'existing_store': True},\n",
    "    {'city': 'Anápolis', 'state': 'GO', 'lat': -16.3281, 'lon': -48.953, 'population': 400000, 'existing_store': False},\n",
    "    {'city': 'Campo Grande', 'state': 'MS', 'lat': -20.4697, 'lon': -54.6201, 'population': 930000, 'existing_store': True},\n",
    "    {'city': 'Cuiabá', 'state': 'MT', 'lat': -15.601, 'lon': -56.0974, 'population': 630000, 'existing_store': True},\n",
    "    {'city': 'Rondonópolis', 'state': 'MT', 'lat': -16.4673, 'lon': -54.6372, 'population': 250000, 'existing_store': False},\n",
    "    {'city': 'Salvador', 'state': 'BA', 'lat': -12.9777, 'lon': -38.5016, 'population': 2900000, 'existing_store': True},\n",
    "    {'city': 'Feira de Santana', 'state': 'BA', 'lat': -12.2546, 'lon': -38.9647, 'population': 620000, 'existing_store': False},\n",
    "    {'city': 'Vitória da Conquista', 'state': 'BA', 'lat': -14.8619, 'lon': -40.8442, 'population': 340000, 'existing_store': False},\n",
    "    {'city': 'Fortaleza', 'state': 'CE', 'lat': -3.7319, 'lon': -38.5267, 'population': 2700000, 'existing_store': True},\n",
    "    {'city': 'Sobral', 'state': 'CE', 'lat': -3.6891, 'lon': -40.3482, 'population': 210000, 'existing_store': False},\n",
    "    {'city': 'Juazeiro do Norte', 'state': 'CE', 'lat': -7.1967, 'lon': -39.3075, 'population': 280000, 'existing_store': False},\n",
    "    {'city': 'Recife', 'state': 'PE', 'lat': -8.0476, 'lon': -34.877, 'population': 1600000, 'existing_store': True},\n",
    "    {'city': 'Caruaru', 'state': 'PE', 'lat': -8.2845, 'lon': -35.9699, 'population': 370000, 'existing_store': False},\n",
    "    {'city': 'João Pessoa', 'state': 'PB', 'lat': -7.1153, 'lon': -34.861, 'population': 830000, 'existing_store': True},\n",
    "    {'city': 'Natal', 'state': 'RN', 'lat': -5.7945, 'lon': -35.211, 'population': 900000, 'existing_store': True},\n",
    "    {'city': 'Maceió', 'state': 'AL', 'lat': -9.6498, 'lon': -35.7089, 'population': 1000000, 'existing_store': True},\n",
    "    {'city': 'Aracaju', 'state': 'SE', 'lat': -10.9472, 'lon': -37.0731, 'population': 670000, 'existing_store': True},\n",
    "    {'city': 'Teresina', 'state': 'PI', 'lat': -5.0919, 'lon': -42.8034, 'population': 870000, 'existing_store': True},\n",
    "    {'city': 'São Luís', 'state': 'MA', 'lat': -2.5387, 'lon': -44.2825, 'population': 1100000, 'existing_store': True},\n",
    "    {'city': 'Manaus', 'state': 'AM', 'lat': -3.1019, 'lon': -60.025, 'population': 2200000, 'existing_store': True},\n",
    "    {'city': 'Boa Vista', 'state': 'RR', 'lat': 2.8235, 'lon': -60.6758, 'population': 420000, 'existing_store': False},\n",
    "    {'city': 'Rio Branco', 'state': 'AC', 'lat': -9.9747, 'lon': -67.8106, 'population': 420000, 'existing_store': True},\n",
    "    {'city': 'Porto Velho', 'state': 'RO', 'lat': -8.7608, 'lon': -63.9039, 'population': 550000, 'existing_store': True},\n",
    "    {'city': 'Macapá', 'state': 'AP', 'lat': 0.0356, 'lon': -51.0705, 'population': 520000, 'existing_store': True},\n",
    "    {'city': 'Belém', 'state': 'PA', 'lat': -1.4558, 'lon': -48.4902, 'population': 1500000, 'existing_store': True},\n",
    "    {'city': 'Santarém', 'state': 'PA', 'lat': -2.4385, 'lon': -54.6996, 'population': 310000, 'existing_store': False},\n",
    "    {'city': 'Marabá', 'state': 'PA', 'lat': -5.3686, 'lon': -49.1178, 'population': 280000, 'existing_store': False},\n",
    "    {'city': 'Palmas', 'state': 'TO', 'lat': -10.1844, 'lon': -48.3336, 'population': 320000, 'existing_store': True},\n",
    "    {'city': 'Araguaína', 'state': 'TO', 'lat': -7.192, 'lon': -48.2045, 'population': 190000, 'existing_store': False}\n",
    "]\n",
    "\n",
    "df = pd.DataFrame(br_data)\n",
    "df_existing = df[df['existing_store']].copy()\n",
    "print(f\"Cidades cadastradas: {len(df)} | Lojas em operação: {len(df_existing)}\")\n",
    "df.head()"
   ]
  },
  {
   "cell_type": "markdown",
   "id": "f0afe2a7",
   "metadata": {},
   "source": [
    "### Visualização geográfica das cidades e lojas\n",
    "\n",
    "Quadrados: cidades com loja. Pontos: cidades candidatas à expansão."
   ]
  },
  {
   "cell_type": "code",
   "execution_count": null,
   "id": "5e2312b8",
   "metadata": {},
   "outputs": [],
   "source": [
    "plt.figure(figsize=(10,7))\n",
    "mask = df['existing_store']\n",
    "plt.scatter(df.loc[~mask,'lon'], df.loc[~mask,'lat'], s=20, alpha=0.8, label=\"Cidades sem loja\")\n",
    "plt.scatter(df.loc[mask,'lon'], df.loc[mask,'lat'], s=65, alpha=0.95, marker='s', label=\"Lojas existentes\")\n",
    "for _, row in df.iterrows():\n",
    "    if row['existing_store']:\n",
    "        plt.annotate(row['city'], (row['lon'], row['lat']), fontsize=7, alpha=0.85)\n",
    "plt.title(\"Brasil · Lojas existentes e demais cidades\")\n",
    "plt.xlabel(\"Longitude\"); plt.ylabel(\"Latitude\")\n",
    "plt.grid(True, linestyle='--', alpha=0.3); plt.legend()\n",
    "plt.show()"
   ]
  },
  {
   "cell_type": "markdown",
   "id": "b89faae5",
   "metadata": {},
   "source": [
    "### Etapa 1 — Sugerindo expansão (k = 1)\n",
    "\n",
    "Aplicamos K-Means ponderado pela população para sugerir a melhor cidade sem loja para expansão."
   ]
  },
  {
   "cell_type": "code",
   "execution_count": null,
   "id": "0c30fafd",
   "metadata": {},
   "outputs": [],
   "source": [
    "def run_weighted_expansion_k(df_full, k, random_state=42):\n",
    "    X = df_full[['lat','lon']].values\n",
    "    w = df_full['population'].values.astype(float)\n",
    "    km = KMeans(n_clusters=k, n_init='auto', random_state=random_state)\n",
    "    labels = km.fit_predict(X, sample_weight=w)\n",
    "    centroids = km.cluster_centers_\n",
    "    sil = silhouette_score(X, labels) if k > 1 and k < len(X) else float('nan')\n",
    "\n",
    "    plt.figure(figsize=(10,7))\n",
    "    mask = df_full['existing_store']\n",
    "    plt.scatter(df_full.loc[~mask,'lon'], df_full.loc[~mask,'lat'], s=20, alpha=0.8, label=\"Cidades sem loja\")\n",
    "    plt.scatter(df_full.loc[mask,'lon'], df_full.loc[mask,'lat'], s=60, alpha=0.95, marker='s', label=\"Lojas existentes\")\n",
    "    plt.scatter(centroids[:,1], centroids[:,0], s=240, marker='X', edgecolor='black', linewidth=1, label=\"Centróide (demanda)\")\n",
    "    for i in range(k):\n",
    "        plt.annotate(f\"Polo {i+1}\", (centroids[i,1], centroids[i,0]), fontsize=9, fontweight='bold', xytext=(4,4), textcoords='offset points')\n",
    "    plt.title(f\"Expansão ponderada por população — k={k}\")\n",
    "    plt.xlabel(\"Longitude\"); plt.ylabel(\"Latitude\")\n",
    "    plt.grid(True, linestyle='--', alpha=0.3); plt.legend()\n",
    "    plt.show()\n",
    "\n",
    "    # Sugestões (preferindo não existentes)\n",
    "    recs = []\n",
    "    for i, c in enumerate(centroids, start=1):\n",
    "        cidade, estado, dist_km = nearest_city(c, df_full, exclude_existing=True)\n",
    "        recs.append({\"k\": k, \"cluster\": i, \"cidade_candidata_nova_loja\": cidade, \"estado\": estado,\n",
    "                     \"dist_km_centroid_to_city\": dist_km, \"centroid_lat\": c[0], \"centroid_lon\": c[1]})\n",
    "    return pd.DataFrame(recs)\n",
    "\n",
    "# Executa k=1 e fixa a NOVA LOJA escolhida automaticamente\n",
    "exp_k1_recs = run_weighted_expansion_k(df, k=1)\n",
    "display(exp_k1_recs)\n",
    "\n",
    "nova_loja_k1 = {\n",
    "    \"cluster\": int(exp_k1_recs.iloc[0][\"cluster\"]),\n",
    "    \"cidade\":  str(exp_k1_recs.iloc[0][\"cidade_candidata_nova_loja\"]),\n",
    "    \"estado\":  str(exp_k1_recs.iloc[0][\"estado\"]),\n",
    "}\n",
    "print(\"Nova loja escolhida (k=1):\", nova_loja_k1)"
   ]
  },
  {
   "cell_type": "markdown",
   "id": "58f51b05",
   "metadata": {},
   "source": [
    "### Etapa 2 — Definição de CD (k = 1)\n",
    "\n",
    "Com a rede expandida, sugerimos a localização de um centro de distribuição para atender todas as lojas."
   ]
  },
  {
   "cell_type": "code",
   "execution_count": null,
   "id": "4e6a5aa0",
   "metadata": {},
   "outputs": [],
   "source": [
    "# Monta base pós-expansão (inclui a nova loja k=1)\n",
    "df_post = df.copy()\n",
    "\n",
    "# marca a cidade escolhida como loja ativa (se já existia na base, apenas garante o flag)\n",
    "mask_city = (df_post['city']==nova_loja_k1['cidade']) & (df_post['state']==nova_loja_k1['estado'])\n",
    "if mask_city.any():\n",
    "    df_post.loc[mask_city, 'existing_store'] = True\n",
    "else:\n",
    "    # Caso extremo: se a cidade escolhida não estivesse na base (não deve ocorrer), adiciona\n",
    "    df_post.loc[len(df_post)] = {\n",
    "        \"city\": nova_loja_k1['cidade'], \"state\": nova_loja_k1['estado'],\n",
    "        \"lat\": np.nan, \"lon\": np.nan, \"population\": 200000, \"existing_store\": True\n",
    "    }\n",
    "\n",
    "df_lojas_ativas = df_post[df_post['existing_store']].copy()\n",
    "print(\"Total de lojas ativas (após expansão k=1):\", len(df_lojas_ativas))\n",
    "df_lojas_ativas[['city','state']].drop_duplicates().reset_index(drop=True).head(10)"
   ]
  },
  {
   "cell_type": "code",
   "execution_count": null,
   "id": "351371f0",
   "metadata": {},
   "outputs": [],
   "source": [
    "def run_cd_k(df_lojas, k, random_state=42):\n",
    "    X = df_lojas[['lat','lon']].values\n",
    "    km = KMeans(n_clusters=k, n_init='auto', random_state=random_state)\n",
    "    labels = km.fit_predict(X)\n",
    "    centroids = km.cluster_centers_\n",
    "\n",
    "    # Plot\n",
    "    plt.figure(figsize=(10,7))\n",
    "    for i in range(k):\n",
    "        pts = X[labels == i]\n",
    "        plt.scatter(pts[:,1], pts[:,0], s=45, alpha=0.9, label=f\"Cluster {i+1}\")\n",
    "    plt.scatter(centroids[:,1], centroids[:,0], s=240, marker='X', edgecolor='black', linewidth=1, label=\"Centróide (CD)\")\n",
    "    for i in range(k):\n",
    "        plt.annotate(f\"CD {i+1}\", (centroids[i,1], centroids[i,0]), fontsize=9, fontweight='bold', xytext=(4,4), textcoords='offset points')\n",
    "    plt.title(f\"Recomendação de CD — k={k} (pós-expansão)\")\n",
    "    plt.xlabel(\"Longitude\"); plt.ylabel(\"Latitude\")\n",
    "    plt.grid(True, linestyle='--', alpha=0.3); plt.legend()\n",
    "    plt.show()\n",
    "\n",
    "    # Recomendações (cidade mais próxima do centróide)\n",
    "    recs = []\n",
    "    for i, c in enumerate(centroids, start=1):\n",
    "        cidade, estado, dist_km = nearest_city(c, df, exclude_existing=False)\n",
    "        recs.append({\"k\": k, \"cluster\": i, \"cidade_candidata_CD\": cidade, \"estado\": estado,\n",
    "                     \"dist_km_centroid_to_city\": dist_km, \"centroid_lat\": c[0], \"centroid_lon\": c[1]})\n",
    "    recs_df = pd.DataFrame(recs)\n",
    "    return recs_df\n",
    "\n",
    "cd_k1_recs = run_cd_k(df_lojas_ativas, k=1)\n",
    "display(cd_k1_recs)\n",
    "print(\"CD sugerido (k=1):\", dict(cd_k1_recs.iloc[0]))"
   ]
  },
  {
   "cell_type": "markdown",
   "id": "cfdf322e",
   "metadata": {},
   "source": [
    "#### Tarefa: Expansão para múltiplas lojas (k = 2..5)\n",
    "\n",
    "Utilize a função de expansão para sugerir novas cidades, uma por cluster, e registre suas escolhas."
   ]
  },
  {
   "cell_type": "code",
   "execution_count": 22,
   "id": "0959455d",
   "metadata": {},
   "outputs": [
    {
     "data": {
      "text/html": [
       "<div>\n",
       "<style scoped>\n",
       "    .dataframe tbody tr th:only-of-type {\n",
       "        vertical-align: middle;\n",
       "    }\n",
       "\n",
       "    .dataframe tbody tr th {\n",
       "        vertical-align: top;\n",
       "    }\n",
       "\n",
       "    .dataframe thead th {\n",
       "        text-align: right;\n",
       "    }\n",
       "</style>\n",
       "<table border=\"1\" class=\"dataframe\">\n",
       "  <thead>\n",
       "    <tr style=\"text-align: right;\">\n",
       "      <th></th>\n",
       "    </tr>\n",
       "  </thead>\n",
       "  <tbody>\n",
       "  </tbody>\n",
       "</table>\n",
       "</div>"
      ],
      "text/plain": [
       "Empty DataFrame\n",
       "Columns: []\n",
       "Index: []"
      ]
     },
     "execution_count": 22,
     "metadata": {},
     "output_type": "execute_result"
    }
   ],
   "source": [
    "# Exemplo de execução (o aluno pode repetir e comparar k=2..5)\n",
    "# _ = run_weighted_expansion_k(df, k=2)\n",
    "# _ = run_weighted_expansion_k(df, k=3)\n",
    "# ...\n",
    "\n",
    "# ====== Preencha para o k escolhido (ex.: 3) ======\n",
    "k_exp_escolhido = None  # ex.: 3\n",
    "novas_lojas = [\n",
    "    # {\"cluster\": 1, \"cidade\": \"Feira de Santana\", \"estado\": \"BA\"},\n",
    "    # {\"cluster\": 2, \"cidade\": \"Joinville\", \"estado\": \"SC\"},\n",
    "    # {\"cluster\": 3, \"cidade\": \"Anápolis\", \"estado\": \"GO\"},\n",
    "]\n",
    "\n",
    "if k_exp_escolhido is not None and len(novas_lojas) != k_exp_escolhido:\n",
    "    print(f\"Aviso: você escolheu k={k_exp_escolhido}, mas listou {len(novas_lojas)} novas lojas.\")\n",
    "pd.DataFrame(novas_lojas)"
   ]
  },
  {
   "cell_type": "markdown",
   "id": "cb5517ab",
   "metadata": {},
   "source": [
    "#### Tarefa: CDs para múltiplas lojas (k = 2..5)\n",
    "\n",
    "Monte a base pós-expansão e utilize a função de CDs para sugerir cidades para centros de distribuição."
   ]
  },
  {
   "cell_type": "code",
   "execution_count": null,
   "id": "629ed27a",
   "metadata": {},
   "outputs": [],
   "source": [
    "# Monta base pós-expansão com as suas escolhas (aluno)\n",
    "df_post_aluno = df.copy()\n",
    "if novas_lojas:\n",
    "    for d in novas_lojas:\n",
    "        mask = (df_post_aluno['city']==d['cidade']) & (df_post_aluno['state']==d['estado'])\n",
    "        if mask.any():\n",
    "            df_post_aluno.loc[mask, 'existing_store'] = True\n",
    "        else:\n",
    "            print(\"⚠️ Cidade escolhida não está na base, adicione lat/lon/population manualmente!\")\n",
    "\n",
    "df_lojas_ativas_aluno = df_post_aluno[df_post_aluno['existing_store']].copy()\n",
    "print(\"Total de lojas ativas (após sua expansão):\", len(df_lojas_ativas_aluno))\n",
    "\n",
    "# Ex.: k=3\n",
    "# recs_cds_k3 = run_cd_k(df_lojas_ativas_aluno, k=3)\n",
    "# display(recs_cds_k3)"
   ]
  },
  {
   "cell_type": "code",
   "execution_count": null,
   "id": "213c98ad",
   "metadata": {},
   "outputs": [],
   "source": [
    "# Criação de uma cópia da base original para experimentos de expansão\n",
    "df_original = pd.DataFrame(br_data)"
   ]
  },
  {
   "cell_type": "code",
   "execution_count": null,
   "id": "74dac249",
   "metadata": {},
   "outputs": [],
   "source": [
    "# Ajuste para exibir mais linhas em DataFrames grandes\n",
    "pd.set_option('display.max_rows', 500)"
   ]
  },
  {
   "cell_type": "markdown",
   "id": "3b1ecc80",
   "metadata": {},
   "source": [
    "### Execução automática: expansão e CDs para diferentes valores de k"
   ]
  },
  {
   "cell_type": "code",
   "execution_count": null,
   "id": "8599cb4f",
   "metadata": {},
   "outputs": [],
   "source": [
    "# Loop para sugerir novas lojas para k de 1 a 5\n",
    "novas_lojas_auto = []\n",
    "df_exp = df_original.copy()\n",
    "for k in range(1, 6):\n",
    "    recs = run_weighted_expansion_k(df_exp, k)\n",
    "    display(recs)\n",
    "    # Seleciona a primeira cidade sugerida de cada cluster\n",
    "    for idx in range(len(recs)):\n",
    "        nova = {\n",
    "            \"cluster\": int(recs.iloc[idx][\"cluster\"]),\n",
    "            \"cidade\": str(recs.iloc[idx][\"cidade_candidata_nova_loja\"]),\n",
    "            \"estado\": str(recs.iloc[idx][\"estado\"])\n",
    "        }\n",
    "        if nova not in novas_lojas_auto:\n",
    "            novas_lojas_auto.append(nova)\n",
    "            mask = (df_exp['city'] == nova['cidade']) & (df_exp['state'] == nova['estado'])\n",
    "            df_exp.loc[mask, 'existing_store'] = True\n",
    "print(\"Novas lojas sugeridas para k=1..5:\")\n",
    "display(pd.DataFrame(novas_lojas_auto))"
   ]
  },
  {
   "cell_type": "markdown",
   "id": "df0a2ebc",
   "metadata": {},
   "source": [
    "## Execução automática de CDs para múltiplos valores de k"
   ]
  },
  {
   "cell_type": "code",
   "execution_count": null,
   "id": "6b1a97ea",
   "metadata": {},
   "outputs": [],
   "source": [
    "# Após expansão automática, roda CDs para k=1..5\n",
    "df_cds = df_exp.copy()\n",
    "df_lojas_ativas_cds = df_cds[df_cds['existing_store']].copy()\n",
    "for k in range(1, 6):\n",
    "    print(f\"Sugestão de CDs para k={k}:\")\n",
    "    recs_cds = run_cd_k(df_lojas_ativas_cds, k)\n",
    "    display(recs_cds)"
   ]
  },
  {
   "cell_type": "markdown",
   "id": "60c2eedb",
   "metadata": {},
   "source": [
    "### Resumo do plano sugerido\n",
    "\n",
    "As recomendações de cidades para novas lojas e CDs foram geradas com base em critérios quantitativos de demanda e localização. Recomenda-se avaliar os resultados considerando também fatores estratégicos e operacionais específicos do negócio."
   ]
  }
 ],
 "metadata": {
  "kernelspec": {
   "display_name": "Python 3",
   "language": "python",
   "name": "python3"
  },
  "language_info": {
   "codemirror_mode": {
    "name": "ipython",
    "version": 3
   },
   "file_extension": ".py",
   "mimetype": "text/x-python",
   "name": "python",
   "nbconvert_exporter": "python",
   "pygments_lexer": "ipython3",
   "version": "3.13.1"
  }
 },
 "nbformat": 4,
 "nbformat_minor": 5
}
